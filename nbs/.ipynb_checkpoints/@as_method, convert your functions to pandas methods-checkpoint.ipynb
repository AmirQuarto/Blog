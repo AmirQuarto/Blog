{
 "cells": [
  {
   "cell_type": "markdown",
   "id": "fd7937f0-6a17-4998-8fbe-3da88c2b7cca",
   "metadata": {},
   "source": [
    "Imagine you have function, which takes a dataframe and makes a change to it or adds a new column to it.  \n",
    "to use that, I know of three ways. In this post we will see, what must we do to be able to use the third option.  \n",
    "\n",
    "1. use `df.pipe(my_new_function, params)`\n",
    "2. use `df = my_new_function(df, params)`\n",
    "3. use `df.my_new_function(params)`\n",
    "\n",
    "In order to use the third option, you need to use the `@as_method` decorator while defining the `my_new_function`. The decorator uses the "
   ]
  },
  {
   "cell_type": "code",
   "execution_count": null,
   "id": "86f884f3-7b54-4d0f-b924-23b68c4b26ee",
   "metadata": {},
   "outputs": [],
   "source": [
    "df.pipe(my_new_function, params)\n",
    "df = my_new_function(df, params)\n",
    "df.my_new_function(params)"
   ]
  },
  {
   "cell_type": "code",
   "execution_count": 2,
   "id": "beec38c0-8104-4a1a-8b1b-fbbf40ad4a40",
   "metadata": {},
   "outputs": [],
   "source": [
    "from copy import deepcopy\n",
    "from functools import wraps\n",
    "import pandas as pd\n",
    "from pandas.core.base import PandasObject\n",
    "\n",
    "def as_method(func):\n",
    "    \"\"\"\n",
    "    This decrator makes a function also available as a method.\n",
    "    The first passed argument must be a DataFrame.\n",
    "    \"\"\"\n",
    "    # from functools import wraps\n",
    "    # from copy import deepcopy\n",
    "    # import pandas as pd\n",
    "    # from pandas.core.base import PandasObject\n",
    "\n",
    "    @wraps(func)\n",
    "    def wrapper(*args, **kwargs):\n",
    "        return func(*deepcopy(args), **deepcopy(kwargs))\n",
    "\n",
    "    setattr(PandasObject, wrapper.__name__, wrapper)\n",
    "\n",
    "    return wrapper\n",
    "    "
   ]
  },
  {
   "cell_type": "markdown",
   "id": "362205ab-974c-48e4-a712-39c2acbe9347",
   "metadata": {},
   "source": [
    "The decorator uses `PandasObject`which I first learned about in this Post:\n",
    "https://stackoverflow.com/questions/43504068/create-my-own-method-for-dataframes-python/53630084#53630084"
   ]
  },
  {
   "cell_type": "markdown",
   "id": "77e6cdb6-0a1f-4b68-a662-7577d411f636",
   "metadata": {},
   "source": [
    "Now lets try it:"
   ]
  },
  {
   "cell_type": "code",
   "execution_count": 3,
   "id": "193d2473-b496-4f4b-a948-fc1cc75f1b89",
   "metadata": {},
   "outputs": [
    {
     "data": {
      "text/html": [
       "<div>\n",
       "<style scoped>\n",
       "    .dataframe tbody tr th:only-of-type {\n",
       "        vertical-align: middle;\n",
       "    }\n",
       "\n",
       "    .dataframe tbody tr th {\n",
       "        vertical-align: top;\n",
       "    }\n",
       "\n",
       "    .dataframe thead th {\n",
       "        text-align: right;\n",
       "    }\n",
       "</style>\n",
       "<table border=\"1\" class=\"dataframe\">\n",
       "  <thead>\n",
       "    <tr style=\"text-align: right;\">\n",
       "      <th></th>\n",
       "      <th>A</th>\n",
       "    </tr>\n",
       "  </thead>\n",
       "  <tbody>\n",
       "    <tr>\n",
       "      <th>0</th>\n",
       "      <td>1</td>\n",
       "    </tr>\n",
       "    <tr>\n",
       "      <th>1</th>\n",
       "      <td>2</td>\n",
       "    </tr>\n",
       "  </tbody>\n",
       "</table>\n",
       "</div>"
      ],
      "text/plain": [
       "   A\n",
       "0  1\n",
       "1  2"
      ]
     },
     "execution_count": 3,
     "metadata": {},
     "output_type": "execute_result"
    }
   ],
   "source": [
    "@as_method\n",
    "def augment_x(DF, x):\n",
    "    \"\"\"We will be able to see this docstring if we run ??augment_x\"\"\"\n",
    "    DF[f\"column_{x}\"] = x\n",
    "\n",
    "    return DF\n",
    "\n",
    "\n",
    "df = pd.DataFrame({\"A\": [1, 2]})\n",
    "df"
   ]
  },
  {
   "cell_type": "code",
   "execution_count": 4,
   "id": "3ce02880-4f68-4cf1-8f20-08c233c0cb8c",
   "metadata": {},
   "outputs": [
    {
     "data": {
      "text/html": [
       "<div>\n",
       "<style scoped>\n",
       "    .dataframe tbody tr th:only-of-type {\n",
       "        vertical-align: middle;\n",
       "    }\n",
       "\n",
       "    .dataframe tbody tr th {\n",
       "        vertical-align: top;\n",
       "    }\n",
       "\n",
       "    .dataframe thead th {\n",
       "        text-align: right;\n",
       "    }\n",
       "</style>\n",
       "<table border=\"1\" class=\"dataframe\">\n",
       "  <thead>\n",
       "    <tr style=\"text-align: right;\">\n",
       "      <th></th>\n",
       "      <th>A</th>\n",
       "      <th>column_10</th>\n",
       "    </tr>\n",
       "  </thead>\n",
       "  <tbody>\n",
       "    <tr>\n",
       "      <th>0</th>\n",
       "      <td>1</td>\n",
       "      <td>10</td>\n",
       "    </tr>\n",
       "    <tr>\n",
       "      <th>1</th>\n",
       "      <td>2</td>\n",
       "      <td>10</td>\n",
       "    </tr>\n",
       "  </tbody>\n",
       "</table>\n",
       "</div>"
      ],
      "text/plain": [
       "   A  column_10\n",
       "0  1         10\n",
       "1  2         10"
      ]
     },
     "execution_count": 4,
     "metadata": {},
     "output_type": "execute_result"
    }
   ],
   "source": [
    "df.augment_x(10)"
   ]
  },
  {
   "cell_type": "markdown",
   "id": "26f77ffa-5fc6-4fc4-9dda-60473ea4fd54",
   "metadata": {},
   "source": [
    "As you can see, the original DataFrame is not changed. As if there is a inplace = False"
   ]
  },
  {
   "cell_type": "code",
   "execution_count": 5,
   "id": "234f5ad8-b843-4b4d-af6a-4e84480af1db",
   "metadata": {},
   "outputs": [
    {
     "data": {
      "text/html": [
       "<div>\n",
       "<style scoped>\n",
       "    .dataframe tbody tr th:only-of-type {\n",
       "        vertical-align: middle;\n",
       "    }\n",
       "\n",
       "    .dataframe tbody tr th {\n",
       "        vertical-align: top;\n",
       "    }\n",
       "\n",
       "    .dataframe thead th {\n",
       "        text-align: right;\n",
       "    }\n",
       "</style>\n",
       "<table border=\"1\" class=\"dataframe\">\n",
       "  <thead>\n",
       "    <tr style=\"text-align: right;\">\n",
       "      <th></th>\n",
       "      <th>A</th>\n",
       "    </tr>\n",
       "  </thead>\n",
       "  <tbody>\n",
       "    <tr>\n",
       "      <th>0</th>\n",
       "      <td>1</td>\n",
       "    </tr>\n",
       "    <tr>\n",
       "      <th>1</th>\n",
       "      <td>2</td>\n",
       "    </tr>\n",
       "  </tbody>\n",
       "</table>\n",
       "</div>"
      ],
      "text/plain": [
       "   A\n",
       "0  1\n",
       "1  2"
      ]
     },
     "execution_count": 5,
     "metadata": {},
     "output_type": "execute_result"
    }
   ],
   "source": [
    "df"
   ]
  },
  {
   "cell_type": "markdown",
   "id": "b000b891-d519-4c25-a7ed-1739befa0afb",
   "metadata": {},
   "source": [
    "You can still use the augment_x as a simple function:"
   ]
  },
  {
   "cell_type": "code",
   "execution_count": 6,
   "id": "206af10d-43b9-457c-b00e-8a6f98aae485",
   "metadata": {},
   "outputs": [
    {
     "data": {
      "text/html": [
       "<div>\n",
       "<style scoped>\n",
       "    .dataframe tbody tr th:only-of-type {\n",
       "        vertical-align: middle;\n",
       "    }\n",
       "\n",
       "    .dataframe tbody tr th {\n",
       "        vertical-align: top;\n",
       "    }\n",
       "\n",
       "    .dataframe thead th {\n",
       "        text-align: right;\n",
       "    }\n",
       "</style>\n",
       "<table border=\"1\" class=\"dataframe\">\n",
       "  <thead>\n",
       "    <tr style=\"text-align: right;\">\n",
       "      <th></th>\n",
       "      <th>A</th>\n",
       "      <th>column_2</th>\n",
       "    </tr>\n",
       "  </thead>\n",
       "  <tbody>\n",
       "    <tr>\n",
       "      <th>0</th>\n",
       "      <td>1</td>\n",
       "      <td>2</td>\n",
       "    </tr>\n",
       "    <tr>\n",
       "      <th>1</th>\n",
       "      <td>2</td>\n",
       "      <td>2</td>\n",
       "    </tr>\n",
       "  </tbody>\n",
       "</table>\n",
       "</div>"
      ],
      "text/plain": [
       "   A  column_2\n",
       "0  1         2\n",
       "1  2         2"
      ]
     },
     "execution_count": 6,
     "metadata": {},
     "output_type": "execute_result"
    }
   ],
   "source": [
    "augment_x(df, 2)"
   ]
  },
  {
   "cell_type": "code",
   "execution_count": null,
   "id": "e35f80f5-dcd7-4836-86ab-b39e96495ed3",
   "metadata": {},
   "outputs": [],
   "source": []
  }
 ],
 "metadata": {
  "kernelspec": {
   "display_name": "Python 3 (ipykernel)",
   "language": "python",
   "name": "python3"
  },
  "language_info": {
   "codemirror_mode": {
    "name": "ipython",
    "version": 3
   },
   "file_extension": ".py",
   "mimetype": "text/x-python",
   "name": "python",
   "nbconvert_exporter": "python",
   "pygments_lexer": "ipython3",
   "version": "3.12.2"
  }
 },
 "nbformat": 4,
 "nbformat_minor": 5
}
